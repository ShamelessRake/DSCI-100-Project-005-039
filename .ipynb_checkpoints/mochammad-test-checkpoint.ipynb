{
 "cells": [
  {
   "cell_type": "code",
   "execution_count": 1,
   "id": "01d393a5-b864-4006-bfaf-ed9c9c497f16",
   "metadata": {},
   "outputs": [
    {
     "ename": "ERROR",
     "evalue": "Error in parse(text = x, srcfile = src): <text>:1:6: unexpected symbol\n1: test test\n         ^\n",
     "output_type": "error",
     "traceback": [
      "Error in parse(text = x, srcfile = src): <text>:1:6: unexpected symbol\n1: test test\n         ^\nTraceback:\n"
     ]
    }
   ],
   "source": [
    "test test test"
   ]
  },
  {
   "cell_type": "code",
   "execution_count": null,
   "id": "eea2cb5d-0e9c-4b18-8eca-ea17e1708581",
   "metadata": {},
   "outputs": [],
   "source": []
  }
 ],
 "metadata": {
  "kernelspec": {
   "display_name": "R",
   "language": "R",
   "name": "ir"
  },
  "language_info": {
   "codemirror_mode": "r",
   "file_extension": ".r",
   "mimetype": "text/x-r-source",
   "name": "R",
   "pygments_lexer": "r",
   "version": "4.3.3"
  }
 },
 "nbformat": 4,
 "nbformat_minor": 5
}
