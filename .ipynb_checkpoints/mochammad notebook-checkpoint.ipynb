{
 "cells": [
  {
   "cell_type": "code",
   "execution_count": null,
   "id": "076cd954-ba4a-451f-ac84-b6fd3fe3cbac",
   "metadata": {},
   "outputs": [],
   "source": [
    "this is my test notebook"
   ]
  }
 ],
 "metadata": {
  "kernelspec": {
   "display_name": "R",
   "language": "R",
   "name": "ir"
  },
  "language_info": {
   "codemirror_mode": "r",
   "file_extension": ".r",
   "mimetype": "text/x-r-source",
   "name": "R",
   "pygments_lexer": "r",
   "version": "4.3.3"
  }
 },
 "nbformat": 4,
 "nbformat_minor": 5
}
