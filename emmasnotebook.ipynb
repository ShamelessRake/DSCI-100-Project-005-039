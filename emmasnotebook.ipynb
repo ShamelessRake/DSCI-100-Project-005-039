{
 "cells": [
  {
   "cell_type": "markdown",
   "id": "66542035-ad4d-44a7-8675-b7764ecd4614",
   "metadata": {},
   "source": [
    "Test Test Test Test"
   ]
  }
 ],
 "metadata": {
  "kernelspec": {
   "display_name": "",
   "name": ""
  },
  "language_info": {
   "name": ""
  }
 },
 "nbformat": 4,
 "nbformat_minor": 5
}
