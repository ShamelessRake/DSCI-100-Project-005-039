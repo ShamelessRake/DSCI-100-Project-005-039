{
 "cells": [
  {
   "cell_type": "markdown",
   "id": "bbea3ab2-f4ef-4fab-a492-21cc6aed7d1a",
   "metadata": {},
   "source": [
    "### DSCI 100 FINAL PROJECT ###\n",
    "# By Shamel, Mochammad, Emma, Jiaxie"
   ]
  },
  {
   "cell_type": "markdown",
   "id": "8fb2134c-cf03-406d-9bb3-3c0c7625faa1",
   "metadata": {},
   "source": [
    "### ARE AGE AND HOURS DETERMINERS OF SUBSCRIPTION STATUS?"
   ]
  },
  {
   "cell_type": "markdown",
   "id": "f5c3f2c4-d326-44c7-a5b6-10472dde6303",
   "metadata": {},
   "source": [
    "This is a final project for introduction for data science course in UBC vancouver campus. For this project, each assigned group was given data collected from a research project regarding a minecraft server run by a from UBC club. The data collected record the player information as well as the play sessions of each player in the minecraft research server.\n",
    "The goal of this project is to look for meaningful data and answer some exploratory questions regarding the minecraft research server and player data. Our group decided to explore and try to answer one of the 3 given broad questions, that is “What player characteristics and behaviours are most predictive of subscribing to a game-related newsletter, and how do these features differ between various player types?”.\n",
    "\n",
    "\n",
    "The following is our process to answer the stated question from making a more specific aspect we want to explore, loading and wrangling the data, making visualizations, and finally came to our conclusion. \n",
    "\n",
    "The specific question we are trying to answer is:\n",
    "#### Can we predict a player's likelihood to subscribe to the server based on age and hours played on a minecraft server in the players.csv data set?\n",
    "\n",
    "Hours played and age act as meaningful and accurate predictors for this specific question as more hours played indicates a higher level of commitment to the game and age can determine the amount of time and money you have available to be able to commit to the server. "
   ]
  },
  {
   "cell_type": "markdown",
   "id": "07459054-d42b-46b7-894c-6e7c6cedf32a",
   "metadata": {},
   "source": [
    "## Methods and Results"
   ]
  },
  {
   "cell_type": "markdown",
   "id": "fa5561d9-3a57-412a-81a3-c5c5d69a80cd",
   "metadata": {},
   "source": [
    "### Library Import\n",
    "Here, we add the libraries that will help make our program:"
   ]
  },
  {
   "cell_type": "code",
   "execution_count": null,
   "id": "445bdc74-49d2-4e7f-a83b-f9d677dc6d1b",
   "metadata": {},
   "outputs": [],
   "source": [
    "library(tidyverse)\n",
    "library(repr)\n",
    "library(tidymodels)\n",
    "library(themis)\n",
    "options(repr.matrix.max.rows = 6)"
   ]
  },
  {
   "cell_type": "markdown",
   "id": "fc5c541e-12b4-48fa-a6a3-225994532e06",
   "metadata": {},
   "source": [
    "### Loading Dataset\n",
    "\n",
    "Here, we load the dataset using the url attained from the Github Repository:"
   ]
  },
  {
   "cell_type": "code",
   "execution_count": null,
   "id": "65468d4c-fb62-4d89-b21a-92c0ea4ffc08",
   "metadata": {},
   "outputs": [],
   "source": [
    "players_url <- \"https://raw.githubusercontent.com/ShamelessRake/DSCI-100-Project-005-039/refs/heads/main/players.csv\"\n",
    "\n",
    "players <- read_csv(players_url)\n",
    "head(players)"
   ]
  },
  {
   "cell_type": "markdown",
   "id": "eed2c069-6482-4dcd-903a-f3dd3821810e",
   "metadata": {},
   "source": [
    "### Wrangling Data\n",
    "\n",
    "While the data seems pretty clean, we could still benefit from removing unwanted variables, altering datatypes, lowercasing the A in \"Age\" for consistency, and removing NA values. We will only need the subscribe, age, and played_hours variable:"
   ]
  },
  {
   "cell_type": "code",
   "execution_count": null,
   "id": "5c7cf639-9467-4462-a4a9-3dec8ca6ccea",
   "metadata": {},
   "outputs": [],
   "source": [
    "sub_time_age_df <- players |>\n",
    "    select(subscribe, played_hours, Age) |>\n",
    "    rename(\"age\" = Age) |>\n",
    "    mutate(subscribe = fct_recode(as.factor(subscribe), \"subscribed\" = \"TRUE\", \"Not subscribed\" = \"FALSE\")) |>\n",
    "    drop_na()\n",
    "head(sub_time_age_df)"
   ]
  },
  {
   "cell_type": "markdown",
   "id": "40ef8948-f3a8-40fc-bc97-033869041d72",
   "metadata": {},
   "source": [
    "### Summarizing Data\n",
    "It is important to know what data we're working with here, so some summarization regarding the maximum values, the minimum values, the mean, the standard deviations. Additionally, we should also find out how many people are subscribed and how many aren't."
   ]
  },
  {
   "cell_type": "code",
   "execution_count": null,
   "id": "04278dc6-3d61-424a-977c-5c9ad616f152",
   "metadata": {},
   "outputs": [],
   "source": [
    "max_age_time <- sub_time_age_df |>\n",
    "    select(played_hours, age) |>\n",
    "    map_df(max, na.rm = TRUE) |>\n",
    "    rename(\"most_hours_played\" = played_hours, \"oldest\" = age)\n",
    "min_age_time <- sub_time_age_df |>\n",
    "    select(played_hours, age) |>\n",
    "    map_df(max, na.rm = TRUE) |>\n",
    "    rename(\"most_hours_played\" = played_hours, \"oldest\" = age)\n",
    "\n",
    "mean_age_time <- sub_time_age_df |>\n",
    "    select(played_hours, age) |>\n",
    "    map_df(mean, na.rm = TRUE) |>\n",
    "    rename(\"average_hours_played\" = played_hours, \"average_age\" = age)\n",
    "sd_age_time <- sub_time_age_df |>\n",
    "    select(played_hours, age) |>\n",
    "    map_df(sd, na.rm = TRUE) |>\n",
    "    rename(\"sd_hours_played\" = played_hours, \"sd_age\" = age)\n",
    "num_subscribed_and_unsubscribed <- sub_time_age_df |>\n",
    "    select(subscribe) |>\n",
    "    group_by(subscribe) |>\n",
    "    summarize(count = n())\n",
    "\n",
    "max_age_time\n",
    "min_age_time\n",
    "mean_age_time\n",
    "sd_age_time\n",
    "num_subscribed_and_unsubscribed"
   ]
  },
  {
   "cell_type": "markdown",
   "id": "9629da29-e681-4444-b41f-cc6a576a9bbe",
   "metadata": {},
   "source": [
    "### Visualizing the Data\n",
    "Let's take a look at the relationship of age (x-axis), hours played (y-axis), and subscription status (coloured)."
   ]
  },
  {
   "cell_type": "code",
   "execution_count": null,
   "id": "2f0c677d-47de-4017-aabd-eb215e5afde9",
   "metadata": {},
   "outputs": [],
   "source": [
    "plot_sub_time_age <-sub_time_age_df |>\n",
    "    ggplot(aes(x = age, y = played_hours, color = subscribe)) +\n",
    "    geom_point() +\n",
    "    labs(x = \"Age (Years)\", y = \"Time Spent Playing (Hours)\", color = \"Subscription Status\", title = \"Time Spent Playing vs Age\") +\n",
    "    theme(text = element_text(size = 15))\n",
    "plot_sub_time_age"
   ]
  },
  {
   "cell_type": "markdown",
   "id": "c8fab980-c6cd-497a-ac35-6ee5fefcc471",
   "metadata": {},
   "source": [
    "### Initial Observations\n",
    "Nothing comes off very clearly as of now in indicating subscription status. There exist some spots where data seems to have points of subscription while other areas don't, such as those below the age of 17 being subscribed, and those above the age of 30 being not subscribed. There is still potential in finding patterns, but with eyes alone, we can't for sure spot a pattern."
   ]
  },
  {
   "cell_type": "markdown",
   "id": "9033d455-51fd-4d50-8312-436a812d86de",
   "metadata": {},
   "source": [
    "### Creating the Training and Testing Split\n",
    "Here, we split our data, allocating 75% of it to the training data, and the other 25% to the testing, a reasonable split that will give enough data to train the accuracy of our model, and test it."
   ]
  },
  {
   "cell_type": "code",
   "execution_count": null,
   "id": "bb0ddb93-eb51-4ed9-8b32-60a023baf1df",
   "metadata": {},
   "outputs": [],
   "source": [
    "set.seed(4321)\n",
    "\n",
    "players_split <- initial_split(sub_time_age_df)\n",
    "players_training <- training(players_split)\n",
    "players_testing <- testing(players_split)"
   ]
  },
  {
   "cell_type": "markdown",
   "id": "35c5b1a7-c540-4098-bbd4-6a422c394e5a",
   "metadata": {},
   "source": [
    "### Create and Train our K-Nearest Neighbor Classification Model\n",
    "\n",
    "Now that we've done all the preliminary work, we can begin to work on actually training a K-Nearest Neighbor Classification Model that can potentially classify newly introduced data by learning from our previous data. To do this, we need to identify a proper K value that's computationally inexpensive, and offers high accuracy. Then, we need to establish a spec, a recipe, a range of K values for our cross validation to determine the most helpful K value, and a workflow. In the recipe, due to the class imbalance seen between subscribed and not subscribed, we will need to oversample to make up for it. For the cross validation, we'll make 5 fold cross,"
   ]
  },
  {
   "cell_type": "code",
   "execution_count": null,
   "id": "c8a919b7-6ec2-4a2f-bbd0-90bbfe13b40f",
   "metadata": {},
   "outputs": [],
   "source": [
    "set.seed(4321)\n",
    "\n",
    "k_grid <- tibble(neighbors = 1:100)\n",
    "players_spec <- nearest_neighbor(weight_func = \"rectangular\", neighbors = tune()) |>\n",
    "    set_engine(\"kknn\") |>\n",
    "    set_mode(\"classification\")\n",
    "\n",
    "players_recipe <- recipe(subscribe ~., data = players_training) |>\n",
    "    step_scale(all_predictors()) |>\n",
    "    step_center(all_predictors()) |>\n",
    "    step_upsample(subscribe, over_ratio = 1, skip = TRUE)\n",
    "\n",
    "players_vfold <- vfold_cv(players_training, v = 5, strata = subscribe)\n",
    "\n",
    "players_fit <- workflow() |>\n",
    "    add_model(players_spec) |>\n",
    "    add_recipe(players_recipe) |>\n",
    "    tune_grid(resamples = players_vfold, grid = k_grid)\n",
    "\n",
    "players_result <- players_fit |>\n",
    "    collect_metrics() |>\n",
    "    filter(.metric == \"accuracy\") |>\n",
    "    select(neighbors, mean) |>\n",
    "    arrange(desc(mean))\n",
    "\n",
    "plot_accuracy <- ggplot(players_result, aes(x = neighbors, y = mean)) +\n",
    "    geom_point() +\n",
    "    geom_line() +\n",
    "    labs(x = \"K\", y = \"Accuracy\", title = \"Accuracy vs K\") +\n",
    "    theme(text = element_text(size = 15))\n",
    "plot_accuracy\n",
    "players_result"
   ]
  },
  {
   "cell_type": "markdown",
   "id": "2609e132-8182-49eb-9ea2-3cde1afdf659",
   "metadata": {},
   "source": [
    "From what we can see, it appears that **64** offers the best K value for the Nearest Neighbor algorithm. The problem with this is that the K value is very high, so it would computationally expensive. Additionally, it very quickly dips in accuracy with the values surrounding it. Therefore, we can look at someting below K= 20. the greatest peak we have is at **K = 17** This value is relatively small so it will be computationally inexpensive. Additionally, the surrounding values appear pretty high as well to it, with much less drastic drops than 64. HOWEVER, it should be noted that the K values exist in accuracy range of 0.1, so maybe multiple K values are possibly. Because of this, it doesn't really make sense to use a K value that large when a much smaller one can give decently similar results. Therefore, we will use **K = 4**. This is very computationally inexpensive, and doesn't have the K's surrounding it deviate too much."
   ]
  },
  {
   "cell_type": "markdown",
   "id": "d59ecf2f-6d8c-4b5c-863a-ad90eaf15c60",
   "metadata": {},
   "source": [
    "### Creating and Testing the Classifier\n",
    "Now that we've decided the K = 4 is our classifier, we will make use that K-nearest neighbor value to test how accurate our classification model is. Additionally, we will test the recall, precision, as well as see how many false positives and negatives we got, along with true positives and negatives."
   ]
  },
  {
   "cell_type": "code",
   "execution_count": null,
   "id": "69b36eaa-bbe8-43d1-a816-830492f3caf6",
   "metadata": {},
   "outputs": [],
   "source": [
    "players_spec_known_k <- nearest_neighbor(weight_func = \"rectangular\", neighbor = 4) |>\n",
    "    set_engine(\"kknn\") |>\n",
    "    set_mode(\"classification\")\n",
    "players_final_fit <- workflow() |>\n",
    "    add_model(players_spec_known_k) |>\n",
    "    add_recipe(players_recipe) |>\n",
    "    fit(players_training)\n",
    "prediction_players <- players_final_fit |>\n",
    "    predict(players_testing) |>\n",
    "    bind_cols(players_testing)\n",
    "player_accuracy <- prediction_players |>\n",
    "    metrics(truth = subscribe, estimate = .pred_class) |>\n",
    "    filter(.metric == \"accuracy\")\n",
    "prediction_players\n",
    "\n",
    "player_recall <- recall"
   ]
  },
  {
   "cell_type": "markdown",
   "id": "bd8cba11-553c-4e3a-926c-7a3636aa64f9",
   "metadata": {},
   "source": [
    "This aligns with existing research showing that younger individuals are more susceptible to intensive gaming behaviors, often driven by developmental and psychological factors (Gentile et al., 2011). In contrast, older adults tend to approach gaming differently, often using video games for relaxation, cognitive stimulation, or social connection rather than compulsion (De Schutter, 2011). Moreover, game design elements like subscription models or in-game content unlocks have been shown to influence user behavior significantly, especially among those more engaged or vulnerable to overuse (Kuss & Griffiths, 2012).\n",
    "\n",
    "These prior findings suggest that age and psychological traits could indeed play a role in subscription patterns, and a deeper statistical analysis may reveal clearer insights.\n",
    "### Reference\n",
    "#### 1.Pathological video game use among youths: A two-year longitudinal study\n",
    "Reference: Gentile, D. A., Choo, H., Liau, A., Sim, T., Li, D., Fung, D., & Khoo, A. (2011).Pathological video game use among youths: A two-year longitudinal study. Pediatrics, 127(2), e319–e329.\n",
    "https://doi.org/10.1542/peds.2010-1353\n",
    "\n",
    "summary: This longitudinal study tracked children's gaming behaviors over two years and found that a subset of young gamers developed symptoms of pathological use. The research linked excessive gaming to outcomes like poorer academic performance, attention problems, and social difficulties.\n",
    "#### 2.Never too old to play: The appeal of digital games to an older audience\n",
    "Reference: De Schutter, B. (2011).Never too old to play: The appeal of digital games to an older audience. Games and Culture, 6(2), 155–170.\n",
    "https://doi.org/10.1177/1555412010364978\n",
    "\n",
    "summary: This article explores why older adults play video games and finds that their motivations differ from younger players. Older gamers often value mental stimulation, relaxation, and social interaction over competitive or compulsive play.\n",
    "#### 3. Video Game Addiction and Mental Health\n",
    "Reference: Kuss, D. J., & Griffiths, M. D. (2012). Internet gaming addiction: A systematic review of empirical research. International Journal of Mental Health and Addiction, 10(2), 278–296. \n",
    "\n",
    "Summary: This systematic review examines empirical studies on internet gaming addiction, highlighting its association with mental health issues such as depression, anxiety, and social phobia.\n",
    "\n",
    "https://doi.org/10.1007/s11469-011-9318-5\n",
    "#### 4. Prevalence of Video Gaming Among Older Adults\n",
    "\n",
    "Reference: AARP Research. (2023). Why Video Games Click With People 50-Plus. \n",
    "\n",
    "Summary: This report reveals that approximately 45% of adults aged 50 and above engage in video gaming, indicating a significant increase over recent years.\n",
    "\n",
    "#### 5. Therapeutic Use of Video Games in Cognitive Training\n",
    "\n",
    "Reference: Ballesteros, S., Prieto, A., Mayas, J., Toril, P., Pita, C., de León, L. P., ... & Reales, J. M. (2014). Brain training with non-action video games enhances aspects of cognition in older adults: A randomized controlled trial. Frontiers in Aging Neuroscience, 6, 277.\n",
    "\n",
    "Summary: This randomized controlled trial indicates that non-action video games can enhance various cognitive functions in older adults, supporting their use in cognitive training programs.\n"
   ]
  },
  {
   "cell_type": "code",
   "execution_count": null,
   "id": "9d5eb9d2-4ff4-466b-bd04-53e70a03585b",
   "metadata": {},
   "outputs": [],
   "source": []
  },
  {
   "cell_type": "code",
   "execution_count": null,
   "id": "4b7613ed-38a2-486d-9bc4-c8fe7a8427c6",
   "metadata": {},
   "outputs": [],
   "source": []
  },
  {
   "cell_type": "code",
   "execution_count": null,
   "id": "c798842f-58cd-416d-aeb1-3cdc2f2770d6",
   "metadata": {},
   "outputs": [],
   "source": []
  }
 ],
 "metadata": {
  "kernelspec": {
   "display_name": "R",
   "language": "R",
   "name": "ir"
  },
  "language_info": {
   "codemirror_mode": "r",
   "file_extension": ".r",
   "mimetype": "text/x-r-source",
   "name": "R",
   "pygments_lexer": "r",
   "version": "4.3.3"
  }
 },
 "nbformat": 4,
 "nbformat_minor": 5
}
